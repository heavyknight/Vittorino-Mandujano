{
 "cells": [
  {
   "cell_type": "markdown",
   "metadata": {},
   "source": [
    "# Semana 9 : Modelo del Estudiante"
   ]
  },
  {
   "cell_type": "markdown",
   "metadata": {},
   "source": [
    "### Por Vittorino Mandujano Cornejo"
   ]
  },
  {
   "cell_type": "code",
   "execution_count": 47,
   "metadata": {},
   "outputs": [],
   "source": [
    "import numpy as np\n",
    "from numpy.linalg import inv"
   ]
  },
  {
   "cell_type": "markdown",
   "metadata": {},
   "source": [
    "El grafo es definido dentro de la función query como matrices. En los argumentos está el orden de las variables:\n",
    "d (dificultad),\n",
    "i (inteligencia),\n",
    "g (grade),\n",
    "s (SAT),\n",
    "l (carta)"
   ]
  },
  {
   "cell_type": "code",
   "execution_count": 48,
   "metadata": {},
   "outputs": [],
   "source": [
    "def query(d,i,g,s,l):\n",
    "\n",
    "    D = np.array([0.6,0.4])\n",
    "    I = np.array([0.7,0.3])\n",
    "    Gdi = np.array([[0.3,0.4,0.3],[0.05,0.25,0.7],[0.9,0.08,0.02],[0.5,0.3,0.2]])\n",
    "    Si = np.array([[0.95,0.05],[0.2,0.8]])\n",
    "    Lg = np.array([[0.1,0.9],[0.4,0.6],[0.99,0.01]])\n",
    "    \n",
    "    if(d==0):\n",
    "        D[0]=1\n",
    "        D[1]=0\n",
    "    elif(d==1):\n",
    "        D[0]=0\n",
    "        D[1]=1\n",
    "        \n",
    "    if(i==0):\n",
    "        I[0]=1\n",
    "        I[1]=0\n",
    "    elif(i==1):\n",
    "        I[0]=0\n",
    "        I[1]=1\n",
    "    \n",
    "        \n",
    "    if(g==s==l==-1):   \n",
    "        Pg = np.matmul(np.array([ I[0]*D[0] , I[0]*D[1] , I[1]*D[0] , I[1]*D[1] ]),Gdi)\n",
    "        Psat = np.matmul( np.array([I[0] , I[1]]),Si )\n",
    "        Pl = np.matmul( Pg ,Lg )\n",
    "    elif(s!=-1):\n",
    "        if(i==0):\n",
    "            Psat[0]=1\n",
    "            Psat[1]=0\n",
    "        elif(i==1):\n",
    "            Psat[0]=0\n",
    "            Psat[1]=1\n",
    "            \n",
    "        I = np.matmul(Psat,inv(Si))\n",
    "    \n",
    "        \n",
    "        \n",
    "    print([\"P(D) : \",D])\n",
    "    print([\"P(I) : \",I])\n",
    "    print([\"P(G) : \",Pg])\n",
    "    print([\"P(SAT) : \",Psat])\n",
    "    print([\"P(letter) : \",Pl])\n"
   ]
  },
  {
   "cell_type": "markdown",
   "metadata": {},
   "source": [
    "Si los argumentos de nuestra función query son todos -1 entonces saldrán los porcentajes con las entradas por defecto"
   ]
  },
  {
   "cell_type": "code",
   "execution_count": 49,
   "metadata": {},
   "outputs": [
    {
     "name": "stdout",
     "output_type": "stream",
     "text": [
      "['P(D) : ', array([0.6, 0.4])]\n",
      "['P(I) : ', array([0.7, 0.3])]\n",
      "['P(G) : ', array([0.362 , 0.2884, 0.3496])]\n",
      "['P(SAT) : ', array([0.725, 0.275])]\n",
      "['P(letter) : ', array([0.497664, 0.502336])]\n"
     ]
    }
   ],
   "source": [
    "query(-1,-1,-1,-1,-1)"
   ]
  },
  {
   "cell_type": "markdown",
   "metadata": {},
   "source": [
    "Esta es una prueba donde Dificultad e inteligencia valen 0%"
   ]
  },
  {
   "cell_type": "code",
   "execution_count": 50,
   "metadata": {},
   "outputs": [
    {
     "name": "stdout",
     "output_type": "stream",
     "text": [
      "['P(D) : ', array([1., 0.])]\n",
      "['P(I) : ', array([1., 0.])]\n",
      "['P(G) : ', array([0.3, 0.4, 0.3])]\n",
      "['P(SAT) : ', array([0.95, 0.05])]\n",
      "['P(letter) : ', array([0.487, 0.513])]\n"
     ]
    }
   ],
   "source": [
    "query(0,0,-1,-1,-1)"
   ]
  },
  {
   "cell_type": "markdown",
   "metadata": {},
   "source": [
    "Esta es una prueba donde Dificultad e inteligencia valen 100%"
   ]
  },
  {
   "cell_type": "code",
   "execution_count": 51,
   "metadata": {},
   "outputs": [
    {
     "name": "stdout",
     "output_type": "stream",
     "text": [
      "['P(D) : ', array([0., 1.])]\n",
      "['P(I) : ', array([0., 1.])]\n",
      "['P(G) : ', array([0.5, 0.3, 0.2])]\n",
      "['P(SAT) : ', array([0.2, 0.8])]\n",
      "['P(letter) : ', array([0.368, 0.632])]\n"
     ]
    }
   ],
   "source": [
    "query(1,1,-1,-1,-1)"
   ]
  }
 ],
 "metadata": {
  "kernelspec": {
   "display_name": "Python 2",
   "language": "python",
   "name": "python2"
  },
  "language_info": {
   "codemirror_mode": {
    "name": "ipython",
    "version": 2
   },
   "file_extension": ".py",
   "mimetype": "text/x-python",
   "name": "python",
   "nbconvert_exporter": "python",
   "pygments_lexer": "ipython2",
   "version": "2.7.15"
  }
 },
 "nbformat": 4,
 "nbformat_minor": 2
}
